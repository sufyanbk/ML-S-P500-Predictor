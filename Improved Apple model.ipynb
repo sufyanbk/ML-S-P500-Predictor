{
 "cells": [
  {
   "cell_type": "code",
   "execution_count": 1,
   "metadata": {},
   "outputs": [
    {
     "name": "stderr",
     "output_type": "stream",
     "text": [
      "[*********************100%%**********************]  1 of 1 completed\n"
     ]
    },
    {
     "name": "stdout",
     "output_type": "stream",
     "text": [
      "              precision    recall  f1-score   support\n",
      "\n",
      "           0       0.48      0.37      0.42       257\n",
      "           1       0.53      0.64      0.58       287\n",
      "\n",
      "    accuracy                           0.51       544\n",
      "   macro avg       0.51      0.51      0.50       544\n",
      "weighted avg       0.51      0.51      0.51       544\n",
      "\n",
      "ROC AUC Score: 0.5152591548150055\n",
      "Average ROC AUC Score from CV: 0.4523231372994642\n"
     ]
    }
   ],
   "source": [
    "import yfinance as yf\n",
    "import pandas as pd\n",
    "from sklearn.ensemble import RandomForestClassifier\n",
    "from sklearn.model_selection import train_test_split, cross_val_score\n",
    "from sklearn.metrics import classification_report, roc_auc_score\n",
    "import numpy as np\n",
    "\n",
    "# Load data\n",
    "data = yf.download(\"AAPL\", start=\"2010-01-01\", end=\"2020-12-31\")\n",
    "\n",
    "# Feature Engineering\n",
    "data['MA10'] = data['Close'].rolling(window=10).mean()\n",
    "data['MA50'] = data['Close'].rolling(window=50).mean()\n",
    "data['Volume_MA10'] = data['Volume'].rolling(window=10).mean()\n",
    "data['Daily_Change'] = data['Close'].pct_change()\n",
    "data['Daily_Change_MA10'] = data['Daily_Change'].rolling(window=10).mean()\n",
    "\n",
    "# Target variable\n",
    "data['Target'] = (data['Close'].shift(-1) > data['Close']).astype(int)\n",
    "\n",
    "# Drop NaN values\n",
    "data = data.dropna()\n",
    "\n",
    "# Define predictors and target\n",
    "predictors = ['Close', 'MA10', 'MA50', 'Volume', 'Volume_MA10', 'Daily_Change', 'Daily_Change_MA10']\n",
    "X = data[predictors]\n",
    "y = data['Target']\n",
    "\n",
    "# Split data into train and test sets\n",
    "X_train, X_test, y_train, y_test = train_test_split(X, y, test_size=0.2, random_state=42)\n",
    "\n",
    "# Model initialization and training\n",
    "model = RandomForestClassifier(n_estimators=100, min_samples_split=50, random_state=42)\n",
    "model.fit(X_train, y_train)\n",
    "\n",
    "# Predictions and evaluations\n",
    "predictions = model.predict(X_test)\n",
    "proba_predictions = model.predict_proba(X_test)[:, 1]\n",
    "\n",
    "# Performance metrics\n",
    "print(classification_report(y_test, predictions))\n",
    "print(f\"ROC AUC Score: {roc_auc_score(y_test, proba_predictions)}\")\n",
    "\n",
    "# Cross-validation\n",
    "cv_scores = cross_val_score(model, X, y, cv=5, scoring='roc_auc')\n",
    "print(f\"Average ROC AUC Score from CV: {np.mean(cv_scores)}\")\n"
   ]
  },
  {
   "cell_type": "code",
   "execution_count": null,
   "metadata": {},
   "outputs": [],
   "source": []
  }
 ],
 "metadata": {
  "kernelspec": {
   "display_name": "Python 3",
   "language": "python",
   "name": "python3"
  },
  "language_info": {
   "codemirror_mode": {
    "name": "ipython",
    "version": 3
   },
   "file_extension": ".py",
   "mimetype": "text/x-python",
   "name": "python",
   "nbconvert_exporter": "python",
   "pygments_lexer": "ipython3",
   "version": "3.12.3"
  }
 },
 "nbformat": 4,
 "nbformat_minor": 2
}
